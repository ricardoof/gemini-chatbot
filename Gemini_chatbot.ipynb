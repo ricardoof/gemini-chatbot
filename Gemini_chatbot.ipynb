{
  "nbformat": 4,
  "nbformat_minor": 0,
  "metadata": {
    "colab": {
      "provenance": [],
      "authorship_tag": "ABX9TyMpvDDHBuX0RUPFndMAGf6b",
      "include_colab_link": true
    },
    "kernelspec": {
      "name": "python3",
      "display_name": "Python 3"
    },
    "language_info": {
      "name": "python"
    }
  },
  "cells": [
    {
      "cell_type": "markdown",
      "metadata": {
        "id": "view-in-github",
        "colab_type": "text"
      },
      "source": [
        "<a href=\"https://colab.research.google.com/github/ricardoof/gemini-chatbot/blob/main/Gemini_chatbot.ipynb\" target=\"_parent\"><img src=\"https://colab.research.google.com/assets/colab-badge.svg\" alt=\"Open In Colab\"/></a>"
      ]
    },
    {
      "cell_type": "markdown",
      "source": [
        "Instalando o SDK do Google"
      ],
      "metadata": {
        "id": "7VihQ992T8WR"
      }
    },
    {
      "cell_type": "code",
      "execution_count": 10,
      "metadata": {
        "id": "JxVuVqj-M8OX"
      },
      "outputs": [],
      "source": [
        "!pip install -q -U google-generativeai"
      ]
    },
    {
      "cell_type": "markdown",
      "source": [
        "Configurações iniciais"
      ],
      "metadata": {
        "id": "nQ4aak_ZJF6k"
      }
    },
    {
      "cell_type": "code",
      "source": [
        "import google.generativeai as genai\n",
        "from google.colab import userdata\n",
        "api_key = userdata.get('SECRET_KEY')\n",
        "genai.configure(api_key=api_key)"
      ],
      "metadata": {
        "id": "LNRCQYq5UuUh"
      },
      "execution_count": 11,
      "outputs": []
    },
    {
      "cell_type": "markdown",
      "source": [
        "Listar os modelos disponíveis"
      ],
      "metadata": {
        "id": "6Ua2QxLEVeR_"
      }
    },
    {
      "cell_type": "code",
      "source": [
        "for m in genai.list_models():\n",
        "  if 'generateContent' in m.supported_generation_methods:\n",
        "    print(m.name)"
      ],
      "metadata": {
        "id": "h-VELTP-VXbI",
        "colab": {
          "base_uri": "https://localhost:8080/",
          "height": 138
        },
        "outputId": "a1ff1677-25e6-4012-cf66-d934586e5bc6"
      },
      "execution_count": 12,
      "outputs": [
        {
          "output_type": "stream",
          "name": "stdout",
          "text": [
            "models/gemini-1.0-pro\n",
            "models/gemini-1.0-pro-001\n",
            "models/gemini-1.0-pro-latest\n",
            "models/gemini-1.0-pro-vision-latest\n",
            "models/gemini-1.5-pro-latest\n",
            "models/gemini-pro\n",
            "models/gemini-pro-vision\n"
          ]
        }
      ]
    },
    {
      "cell_type": "markdown",
      "source": [
        "Configurações para gerar uma resposta"
      ],
      "metadata": {
        "id": "mUYZcE-Fb9bg"
      }
    },
    {
      "cell_type": "code",
      "source": [
        "generation_config = {\n",
        "    \"candidate_count\": 1,\n",
        "    \"temperature\": 0.5,\n",
        "}"
      ],
      "metadata": {
        "id": "cqL0KOd2Y0BH"
      },
      "execution_count": 13,
      "outputs": []
    },
    {
      "cell_type": "markdown",
      "source": [
        "Configurações de segurança"
      ],
      "metadata": {
        "id": "BKiuOQdRe3BA"
      }
    },
    {
      "cell_type": "code",
      "source": [
        "safety_settings = {\n",
        "    \"HARASSMENT\": \"BLOCK_NONE\",\n",
        "    \"HATE\": \"BLOCK_NONE\",\n",
        "    \"SEXUAL\": \"BLOCK_NONE\",\n",
        "    \"DANGEROUS\": \"BLOCK_NONE\",\n",
        "}"
      ],
      "metadata": {
        "id": "29gv_hI6aUtX"
      },
      "execution_count": 14,
      "outputs": []
    },
    {
      "cell_type": "markdown",
      "source": [
        "Inicializando o modelo"
      ],
      "metadata": {
        "id": "1R2OJf9QdEiX"
      }
    },
    {
      "cell_type": "code",
      "source": [
        "model = genai.GenerativeModel(model_name=\"gemini-1.0-pro\",\n",
        "                              generation_config=generation_config,\n",
        "                              safety_settings=safety_settings)"
      ],
      "metadata": {
        "id": "8aNRXl-udHYo"
      },
      "execution_count": 15,
      "outputs": []
    },
    {
      "cell_type": "markdown",
      "source": [
        "Inicializando o histórico"
      ],
      "metadata": {
        "id": "kugGj6OQp31P"
      }
    },
    {
      "cell_type": "code",
      "source": [
        "chat = model.start_chat(history=[])"
      ],
      "metadata": {
        "id": "2tlONqekfxQ_"
      },
      "execution_count": 41,
      "outputs": []
    },
    {
      "cell_type": "markdown",
      "source": [
        "Input para digitar sua pergunta"
      ],
      "metadata": {
        "id": "Dgvi85B_p92X"
      }
    },
    {
      "cell_type": "code",
      "source": [
        "print(\"Olá sou um chatbot que recomenda jogos. Responda as perguntas para receber uma recomendação\")\n",
        "genero = input(\"Qual é o gênero? \")\n",
        "horas = input(\"Qual a duração média que você gostaria que o jogo tivesse? \")\n",
        "prompt = f\"Recomende jogos no gênero {genero} com duração em torno de {horas} horas.\"\n",
        "\n",
        "while prompt != \"não\":\n",
        "  response = chat.send_message(prompt)\n",
        "  print(\"Resposta: \", response.text, \"\\n\")\n",
        "  prompt = input(\"Deseja outra recomendação?\")\n",
        "  if prompt == \"não\":\n",
        "    break\n",
        "  if prompt == \"sim\":\n",
        "    genero = input(\"Qual é o gênero? \")\n",
        "    horas = input(\"Qual a duração média que você gostaria que o jogo tivesse? \")\n",
        "    prompt = f\"Recomende jogos no gênero {genero} com duração em torno de {horas} horas.\""
      ],
      "metadata": {
        "colab": {
          "base_uri": "https://localhost:8080/",
          "height": 590
        },
        "id": "oZYlxgbFgbo-",
        "outputId": "e2858177-52d0-4b70-aa95-7e839a96780f"
      },
      "execution_count": 42,
      "outputs": [
        {
          "name": "stdout",
          "output_type": "stream",
          "text": [
            "Olá sou um chatbot que recomenda jogos. Responda as perguntas para receber uma recomendação\n",
            "Qual é o gênero? ação\n",
            "Qual a duração média que você gostaria que o jogo tivesse? 20\n",
            "Resposta:  **Jogos de Ação com Duração Aproximada de 20 Horas:**\n",
            "\n",
            "* **Control:** Um jogo de ação e aventura sobrenatural com uma história envolvente e poderes sobrenaturais.\n",
            "* **Hades:** Um jogo de ação roguelike com uma história cativante, personagens carismáticos e jogabilidade viciante.\n",
            "* **Hollow Knight:** Um jogo de ação e aventura Metroidvania com um vasto mundo subterrâneo para explorar e chefes desafiadores.\n",
            "* **Celeste:** Um jogo de plataforma desafiador com uma história comovente e uma trilha sonora linda.\n",
            "* **Ori and the Blind Forest:** Um jogo de plataforma e aventura com visuais deslumbrantes, uma história comovente e jogabilidade fluida.\n",
            "* **Titanfall 2:** Um jogo de tiro em primeira pessoa com uma campanha envolvente, jogabilidade rápida e mechas personalizáveis.\n",
            "* **Doom (2016):** Um jogo de tiro em primeira pessoa frenético com uma campanha brutal, armas poderosas e uma trilha sonora pesada.\n",
            "* **Wolfenstein: The New Order:** Um jogo de tiro em primeira pessoa com uma história cativante, personagens memoráveis e jogabilidade intensa.\n",
            "* **Metro Exodus:** Um jogo de tiro em primeira pessoa pós-apocalíptico com uma história envolvente, exploração de mundo aberto e jogabilidade tensa.\n",
            "* **Shadow of the Tomb Raider:** Um jogo de ação e aventura com uma história emocionante, exploração de tumbas desafiadora e jogabilidade furtiva. \n",
            "\n",
            "Deseja outra recomendação?sim\n",
            "Qual é o gênero? fps\n",
            "Qual a duração média que você gostaria que o jogo tivesse? 15\n",
            "Resposta:  **Jogos FPS com Duração Aproximada de 15 Horas:**\n",
            "\n",
            "* **Call of Duty: Modern Warfare 2 (Campanha):** Um jogo de tiro em primeira pessoa moderno com uma campanha envolvente e missões variadas.\n",
            "* **Titanfall 2 (Campanha):** Um jogo de tiro em primeira pessoa com uma campanha cativante, jogabilidade rápida e mechas personalizáveis.\n",
            "* **Doom (2016):** Um jogo de tiro em primeira pessoa frenético com uma campanha brutal, armas poderosas e uma trilha sonora pesada.\n",
            "* **Wolfenstein: The New Order:** Um jogo de tiro em primeira pessoa com uma história cativante, personagens memoráveis e jogabilidade intensa.\n",
            "* **Metro 2033 Redux:** Um jogo de tiro em primeira pessoa pós-apocalíptico com uma história envolvente, exploração atmosférica e jogabilidade tensa.\n",
            "* **Half-Life 2:** Um jogo de tiro em primeira pessoa clássico com uma história envolvente, quebra-cabeças desafiadores e jogabilidade inovadora.\n",
            "* **Portal:** Um jogo de quebra-cabeça em primeira pessoa com uma história cativante, quebra-cabeças criativos e jogabilidade baseada em física.\n",
            "* **BioShock:** Um jogo de tiro em primeira pessoa com uma história envolvente, um cenário único e poderes sobrenaturais.\n",
            "* **Far Cry 3: Blood Dragon:** Um jogo de tiro em primeira pessoa autônomo com uma história exagerada, jogabilidade frenética e estética neon.\n",
            "* **Shadow Warrior 2:** Um jogo de tiro em primeira pessoa com uma história divertida, combate rápido e armas criativas. \n",
            "\n",
            "Deseja outra recomendação?não\n"
          ]
        }
      ]
    },
    {
      "cell_type": "markdown",
      "source": [
        "Para melhorar a visualização do prompt"
      ],
      "metadata": {
        "id": "2OQVAxxqqc5W"
      }
    },
    {
      "cell_type": "code",
      "source": [
        "#Melhorando a visualização\n",
        "#Código disponível em https://ai.google.dev/tutorials/python_quickstart#import_packages\n",
        "import textwrap\n",
        "from IPython.display import display\n",
        "from IPython.display import Markdown\n",
        "\n",
        "def to_markdown(text):\n",
        "  text = text.replace('•', '  *')\n",
        "  return Markdown(textwrap.indent(text, '> ', predicate=lambda _: True))\n",
        "\n",
        "#Imprimindo o histórico\n",
        "for message in chat.history:\n",
        "  display(to_markdown(f'**{message.role}**: {message.parts[0].text}'))\n",
        "  print('-------------------------------------------')"
      ],
      "metadata": {
        "colab": {
          "base_uri": "https://localhost:8080/",
          "height": 731
        },
        "id": "PmRGnuhrk0y3",
        "outputId": "41965ff2-52ff-4524-c4c6-91070cf7d9f5"
      },
      "execution_count": 43,
      "outputs": [
        {
          "output_type": "display_data",
          "data": {
            "text/plain": [
              "<IPython.core.display.Markdown object>"
            ],
            "text/markdown": "> **user**: Recomende jogos no gênero ação com duração em torno de 20 horas."
          },
          "metadata": {}
        },
        {
          "output_type": "stream",
          "name": "stdout",
          "text": [
            "-------------------------------------------\n"
          ]
        },
        {
          "output_type": "display_data",
          "data": {
            "text/plain": [
              "<IPython.core.display.Markdown object>"
            ],
            "text/markdown": "> **model**: **Jogos de Ação com Duração Aproximada de 20 Horas:**\n> \n> * **Control:** Um jogo de ação e aventura sobrenatural com uma história envolvente e poderes sobrenaturais.\n> * **Hades:** Um jogo de ação roguelike com uma história cativante, personagens carismáticos e jogabilidade viciante.\n> * **Hollow Knight:** Um jogo de ação e aventura Metroidvania com um vasto mundo subterrâneo para explorar e chefes desafiadores.\n> * **Celeste:** Um jogo de plataforma desafiador com uma história comovente e uma trilha sonora linda.\n> * **Ori and the Blind Forest:** Um jogo de plataforma e aventura com visuais deslumbrantes, uma história comovente e jogabilidade fluida.\n> * **Titanfall 2:** Um jogo de tiro em primeira pessoa com uma campanha envolvente, jogabilidade rápida e mechas personalizáveis.\n> * **Doom (2016):** Um jogo de tiro em primeira pessoa frenético com uma campanha brutal, armas poderosas e uma trilha sonora pesada.\n> * **Wolfenstein: The New Order:** Um jogo de tiro em primeira pessoa com uma história cativante, personagens memoráveis e jogabilidade intensa.\n> * **Metro Exodus:** Um jogo de tiro em primeira pessoa pós-apocalíptico com uma história envolvente, exploração de mundo aberto e jogabilidade tensa.\n> * **Shadow of the Tomb Raider:** Um jogo de ação e aventura com uma história emocionante, exploração de tumbas desafiadora e jogabilidade furtiva."
          },
          "metadata": {}
        },
        {
          "output_type": "stream",
          "name": "stdout",
          "text": [
            "-------------------------------------------\n"
          ]
        },
        {
          "output_type": "display_data",
          "data": {
            "text/plain": [
              "<IPython.core.display.Markdown object>"
            ],
            "text/markdown": "> **user**: Recomende jogos no gênero fps com duração em torno de 15 horas."
          },
          "metadata": {}
        },
        {
          "output_type": "stream",
          "name": "stdout",
          "text": [
            "-------------------------------------------\n"
          ]
        },
        {
          "output_type": "display_data",
          "data": {
            "text/plain": [
              "<IPython.core.display.Markdown object>"
            ],
            "text/markdown": "> **model**: **Jogos FPS com Duração Aproximada de 15 Horas:**\n> \n> * **Call of Duty: Modern Warfare 2 (Campanha):** Um jogo de tiro em primeira pessoa moderno com uma campanha envolvente e missões variadas.\n> * **Titanfall 2 (Campanha):** Um jogo de tiro em primeira pessoa com uma campanha cativante, jogabilidade rápida e mechas personalizáveis.\n> * **Doom (2016):** Um jogo de tiro em primeira pessoa frenético com uma campanha brutal, armas poderosas e uma trilha sonora pesada.\n> * **Wolfenstein: The New Order:** Um jogo de tiro em primeira pessoa com uma história cativante, personagens memoráveis e jogabilidade intensa.\n> * **Metro 2033 Redux:** Um jogo de tiro em primeira pessoa pós-apocalíptico com uma história envolvente, exploração atmosférica e jogabilidade tensa.\n> * **Half-Life 2:** Um jogo de tiro em primeira pessoa clássico com uma história envolvente, quebra-cabeças desafiadores e jogabilidade inovadora.\n> * **Portal:** Um jogo de quebra-cabeça em primeira pessoa com uma história cativante, quebra-cabeças criativos e jogabilidade baseada em física.\n> * **BioShock:** Um jogo de tiro em primeira pessoa com uma história envolvente, um cenário único e poderes sobrenaturais.\n> * **Far Cry 3: Blood Dragon:** Um jogo de tiro em primeira pessoa autônomo com uma história exagerada, jogabilidade frenética e estética neon.\n> * **Shadow Warrior 2:** Um jogo de tiro em primeira pessoa com uma história divertida, combate rápido e armas criativas."
          },
          "metadata": {}
        },
        {
          "output_type": "stream",
          "name": "stdout",
          "text": [
            "-------------------------------------------\n"
          ]
        }
      ]
    }
  ]
}